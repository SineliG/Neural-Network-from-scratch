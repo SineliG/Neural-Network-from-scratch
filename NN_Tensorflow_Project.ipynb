{
 "cells": [
  {
   "cell_type": "markdown",
   "metadata": {},
   "source": [
    "# Neural Network from Scratch in TensorFlow"
   ]
  },
  {
   "cell_type": "markdown",
   "metadata": {},
   "source": [
    "# Task 1: Introduction and Importing Libraries"
   ]
  },
  {
   "cell_type": "code",
   "execution_count": 2,
   "metadata": {},
   "outputs": [
    {
     "name": "stdout",
     "output_type": "stream",
     "text": [
      "TensorFlow Version: 2.1.0\n"
     ]
    }
   ],
   "source": [
    "import tensorflow as tf\n",
    "import numpy as np\n",
    "import matplotlib.pyplot as plt\n",
    "import nn_utils\n",
    "%matplotlib inline\n",
    "\n",
    "print('TensorFlow Version:', tf.__version__)"
   ]
  },
  {
   "cell_type": "markdown",
   "metadata": {},
   "source": [
    "# Task 2: Initializing Neural Network"
   ]
  },
  {
   "cell_type": "code",
   "execution_count": 3,
   "metadata": {},
   "outputs": [],
   "source": [
    "class NeuralNetwork:\n",
    "    def __init__(self, layers):\n",
    "        self.layers = layers\n",
    "        self.L = len(layers)\n",
    "        self.num_features = layers[0]\n",
    "        self.num_classes = layers[-1]\n",
    "        \n",
    "        self.W = {} #weight\n",
    "        self.b = {} #bias\n",
    "        \n",
    "        self.dW = {}\n",
    "        self.db = {}\n",
    "        \n",
    "        self.setup()\n",
    "        \n",
    "    def setup(self):\n",
    "\n",
    "        for i in range(1, self.L):\n",
    "            self.W[i] = tf.Variable(tf.random.normal(shape = (self.layers[i], self.layers[i-1])))\n",
    "            self.b[i] = tf.Variable(tf.random.normal(shape = (self.layers[i], 1)))"
   ]
  },
  {
   "cell_type": "markdown",
   "metadata": {},
   "source": [
    "# Task 3: Forward Pass"
   ]
  },
  {
   "cell_type": "code",
   "execution_count": 4,
   "metadata": {},
   "outputs": [],
   "source": [
    "class NeuralNetwork(NeuralNetwork):\n",
    "    #X is exmaples\n",
    "    def forward_pass(self, X): # ex. X = 200 features, 50 examples, shape of X will be 50x200\n",
    "\n",
    "        A = tf.convert_to_tensor(X, dtype = tf.float32)\n",
    "        \n",
    "        #for each layer, need to calculate output\n",
    "        for i in range(1, self.L):\n",
    "            \n",
    "            #Z is linear output\n",
    "            #linear sum is W multiplied by X plus b\n",
    "            Z = tf.matmul(A, tf.transpose(self.W[i])) + tf.transpose(self.b[i])\n",
    "            \n",
    "            if i != self.L-1: #if the layer is not the final layer\n",
    "                A = tf.nn.relu(Z)\n",
    "            else: #final layer\n",
    "                A = Z\n",
    "        return A #linear output"
   ]
  },
  {
   "cell_type": "markdown",
   "metadata": {},
   "source": [
    "# Task 4: Computing Loss and Updating Parameters"
   ]
  },
  {
   "cell_type": "code",
   "execution_count": 5,
   "metadata": {},
   "outputs": [],
   "source": [
    "#compute loss will be used to calculate backward propagation, will get gradients back and use \n",
    "#for parameters W and b to update their values\n",
    "\n",
    "class NeuralNetwork(NeuralNetwork):\n",
    "\n",
    "    def compute_loss(self, A, Y): #Y is the ground truth\n",
    "        loss = tf.nn.softmax_cross_entropy_with_logits(Y, A) #loss on the batch\n",
    "        return tf.reduce_mean(loss)\n",
    "    \n",
    "    def update_params(self, lr): #lr = learning rate\n",
    "        for i in range(1, self.L): #need to update paramters for all layers except input\n",
    "            #W is equal to W minus the content in brackets\n",
    "            self.W[i].assign_sub(lr * self.dW[i]) #lr * self.dW[i] is all the gradients for the layer\n",
    "            self.b[i].assign_sub(lr * self.db[i])"
   ]
  },
  {
   "cell_type": "markdown",
   "metadata": {},
   "source": [
    "# Task 5: Predict and Info Functions"
   ]
  },
  {
   "cell_type": "code",
   "execution_count": 6,
   "metadata": {},
   "outputs": [],
   "source": [
    "class NeuralNetwork(NeuralNetwork):\n",
    "    def predict(self, X):\n",
    "\n",
    "        A = self.forward_pass(X)\n",
    "        return tf.argmax(tf.nn.softmax(A), axis = 1) #looking for argmax for columns (axis=1)\n",
    "    \n",
    "    def info(self):\n",
    "        num_params = 0\n",
    "        for i in range(1, self.L):\n",
    "            num_params += self.W[i].shape[0] * self.W[i].shape[1]\n",
    "            num_params += self.b[i].shape[0]\n",
    "        print('Input Features:', self.num_features)\n",
    "        print('Number of Classes:', self.num_classes)\n",
    "        print('Hidden Layers:')\n",
    "        print('--------------')\n",
    "        for i in range(1, self.L-1):\n",
    "            print('Layer {}, Units {}'.format(i, self.layers[i]))\n",
    "        print('--------------')\n",
    "        print('Number of parameters:', num_params)"
   ]
  },
  {
   "cell_type": "markdown",
   "metadata": {},
   "source": [
    "# Task 6: Training on Batch"
   ]
  },
  {
   "cell_type": "code",
   "execution_count": 7,
   "metadata": {},
   "outputs": [],
   "source": [
    "class NeuralNetwork(NeuralNetwork):\n",
    "    #forward pass and compute loss and backward propagation for finding gradients \n",
    "    #and updating the gradients will happen in this function\n",
    "    def train_on_batch(self, X, Y, lr): #X, Y are our batch\n",
    "        \n",
    "        #X, Y are numpy arrays, need to convert to tensors\n",
    "        X = tf.convert_to_tensor(X, dtype = tf.float32)\n",
    "        Y = tf.convert_to_tensor(Y, dtype = tf.float32)\n",
    "        \n",
    "        #in order to run backward propagation, we need to make sure we have a \n",
    "        #gradient tape and we compte loss within the gradient tape context\n",
    "        \n",
    "        with tf.GradientTape(persistent = True) as tape:\n",
    "            A = self.forward_pass(X)\n",
    "            loss = self.compute_loss(A, Y)\n",
    "        \n",
    "        #calculating gradients for all layers\n",
    "        for i in range(1, self.L):\n",
    "            self.dW[i] = tape.gradient(loss, self.W[i]) \n",
    "            self.db[i] = tape.gradient(loss, self.b[i]) \n",
    "        \n",
    "        del tape\n",
    "        self.update_params(lr)\n",
    "        \n",
    "        #returning numeric value of loss after this training\n",
    "        return loss.numpy()    \n",
    "        "
   ]
  },
  {
   "cell_type": "markdown",
   "metadata": {},
   "source": [
    "# Task 7: Training on Complete Set"
   ]
  },
  {
   "cell_type": "code",
   "execution_count": 18,
   "metadata": {},
   "outputs": [],
   "source": [
    "class NeuralNetwork(NeuralNetwork):\n",
    "    #gets entire training set and test set, and will use train_batch\n",
    "    #keeps track of training loss, validation loss, training accuracy, to help determine\n",
    "    #if training worked well\n",
    "    \n",
    "    def train(self, x_train, y_train, x_test, y_test, epochs, steps_per_epoch, batch_size, lr):\n",
    "\n",
    "        history = {\n",
    "            'val_loss': [], \n",
    "            'train_loss': [],\n",
    "            'val_acc': []\n",
    "        }\n",
    "        \n",
    "        #instead of running all iterations for all examples, we are breaking it down \n",
    "        #into mini batches (mini batches gradient desent)\n",
    "        \n",
    "        #ex. batch_size = 100, 1000 examples, 10 steps per epoch, that will be 10 batches within one epoch\n",
    "        for e in range(0, epochs):\n",
    "            epoch_train_loss = 0\n",
    "            print('Epoch {}'.format(e), end = '.')\n",
    "            \n",
    "            for i in range(0, steps_per_epoch):\n",
    "                x_batch = x_train[i*batch_size:(i+1)*batch_size] #has examples only corresponding to the batch size\n",
    "                y_batch = y_train[i*batch_size:(i+1)*batch_size]\n",
    "                \n",
    "                #does back prop, updates params and returns a numeric value for the loss\n",
    "                batch_loss = self.train_on_batch(x_batch, y_batch, lr)\n",
    "                \n",
    "                epoch_train_loss += batch_loss\n",
    "                \n",
    "                #prints a dot for every 1/10th of progress\n",
    "                if i%int(steps_per_epoch/10) == 0:\n",
    "                    print(end = '.')\n",
    "                \n",
    "            history['train_loss'].append(epoch_train_loss/steps_per_epoch)\n",
    "            val_A = self.forward_pass(x_test)\n",
    "            val_loss = self.compute_loss(val_A, y_test).numpy()\n",
    "            history['val_loss'].append(val_loss)\n",
    "            val_preds = self.predict(x_test)\n",
    "            val_acc = np.mean(np.argmax(y_test, axis = 1) == val_preds.numpy())\n",
    "            history['val_acc'].append(val_acc)\n",
    "            \n",
    "            print('Val acc: ', val_acc)\n",
    "        return history"
   ]
  },
  {
   "cell_type": "markdown",
   "metadata": {},
   "source": [
    "# Task 8: Application"
   ]
  },
  {
   "cell_type": "code",
   "execution_count": 19,
   "metadata": {},
   "outputs": [
    {
     "data": {
      "image/png": "[encoded data removed]",
      "text/plain": [
       "<Figure size 720x360 with 10 Axes>"
      ]
     },
     "metadata": {},
     "output_type": "display_data"
    }
   ],
   "source": [
    "(x_train, y_train), (x_test, y_test) = nn_utils.load_data()\n",
    "\n",
    "nn_utils.plot_random_examples(x_train, y_train).show()"
   ]
  },
  {
   "cell_type": "code",
   "execution_count": 20,
   "metadata": {},
   "outputs": [
    {
     "name": "stdout",
     "output_type": "stream",
     "text": [
      "Input Features: 784\n",
      "Number of Classes: 10\n",
      "Hidden Layers:\n",
      "--------------\n",
      "Layer 1, Units 128\n",
      "Layer 2, Units 128\n",
      "--------------\n",
      "Number of parameters: 118282\n"
     ]
    }
   ],
   "source": [
    "net = NeuralNetwork([784, 128, 128, 10]) #hidden layers 128,128, 10 classes (0-9)\n",
    "net.info()"
   ]
  },
  {
   "cell_type": "code",
   "execution_count": 21,
   "metadata": {},
   "outputs": [
    {
     "name": "stdout",
     "output_type": "stream",
     "text": [
      "Steps per epoch 500\n"
     ]
    }
   ],
   "source": [
    "batch_size = 120\n",
    "epochs = 5 #we have 60000 examples\n",
    "steps_per_epoch = int(x_train.shape[0]/batch_size)\n",
    "lr = 3e-3 #can change, most common lr will work\n",
    "print('Steps per epoch', steps_per_epoch)"
   ]
  },
  {
   "cell_type": "code",
   "execution_count": 22,
   "metadata": {},
   "outputs": [
    {
     "name": "stdout",
     "output_type": "stream",
     "text": [
      "Epoch 0...........Val acc:  0.8093\n",
      "Epoch 1...........Val acc:  0.8403\n",
      "Epoch 2...........Val acc:  0.8512\n",
      "Epoch 3...........Val acc:  0.8576\n",
      "Epoch 4...........Val acc:  0.8629\n"
     ]
    }
   ],
   "source": [
    "history = net.train(\n",
    "    x_train, y_train,\n",
    "    x_test, y_test,\n",
    "    epochs, steps_per_epoch,\n",
    "    batch_size, lr\n",
    ")"
   ]
  },
  {
   "cell_type": "markdown",
   "metadata": {},
   "source": [
    "# Task 9: Results"
   ]
  },
  {
   "cell_type": "code",
   "execution_count": 23,
   "metadata": {},
   "outputs": [
    {
     "data": {
      "image/png": "[encoded data removed]",
      "text/plain": [
       "<Figure size 864x288 with 2 Axes>"
      ]
     },
     "metadata": {
      "needs_background": "light"
     },
     "output_type": "display_data"
    }
   ],
   "source": [
    "nn_utils.plot_results(history).show()"
   ]
  },
  {
   "cell_type": "code",
   "execution_count": 24,
   "metadata": {},
   "outputs": [],
   "source": [
    "preds = net.predict(x_test)"
   ]
  },
  {
   "cell_type": "code",
   "execution_count": 27,
   "metadata": {},
   "outputs": [
    {
     "data": {
      "image/png": "[encoded data removed]",
      "text/plain": [
       "<Figure size 720x360 with 10 Axes>"
      ]
     },
     "metadata": {},
     "output_type": "display_data"
    }
   ],
   "source": [
    "nn_utils.plot_random_examples(x_test, y_test, preds.numpy()).show()"
   ]
  },
  {
   "cell_type": "code",
   "execution_count": null,
   "metadata": {},
   "outputs": [],
   "source": []
  }
 ],
 "metadata": {
  "kernelspec": {
   "display_name": "Python 3",
   "language": "python",
   "name": "python3"
  },
  "language_info": {
   "codemirror_mode": {
    "name": "ipython",
    "version": 3
   },
   "file_extension": ".py",
   "mimetype": "text/x-python",
   "name": "python",
   "nbconvert_exporter": "python",
   "pygments_lexer": "ipython3",
   "version": "3.7.0"
  }
 },
 "nbformat": 4,
 "nbformat_minor": 2
}
